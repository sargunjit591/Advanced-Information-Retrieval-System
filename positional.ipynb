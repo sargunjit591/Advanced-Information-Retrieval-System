{
 "cells": [
  {
   "cell_type": "code",
   "execution_count": 24,
   "metadata": {},
   "outputs": [
    {
     "name": "stdout",
     "output_type": "stream",
     "text": [
      "hi\n"
     ]
    }
   ],
   "source": [
    "import os\n",
    "import string\n",
    "import pickle\n",
    "\n",
    "print(\"hi\")\n",
    "positional_index = {}\n",
    "\n",
    "dataset_path = 'text_files'\n",
    "for filename in os.listdir(dataset_path):\n",
    "        if filename.endswith(\".txt\"):\n",
    "                with open(os.path.join(dataset_path, filename), 'r') as file:\n",
    "                        text = file.read()\n",
    "                        words=[word for word in text.split()]\n",
    "                        for position,word in enumerate(words):\n",
    "                                if word not in positional_index:\n",
    "                                        positional_index[word] = []\n",
    "                                positional_index[word].append((filename, position))\n",
    "\n",
    "with open('positional_index.pkl', 'wb') as f:\n",
    "        pickle.dump(positional_index, f)"
   ]
  },
  {
   "cell_type": "code",
   "execution_count": 26,
   "metadata": {},
   "outputs": [
    {
     "name": "stdout",
     "output_type": "stream",
     "text": [
      "[('file847.txt', 10), ('file847.txt', 49), ('file674.txt', 27), ('file1.txt', 1), ('file1.txt', 3), ('file936.txt', 23), ('file895.txt', 14), ('file827.txt', 31), ('file51.txt', 27), ('file638.txt', 59), ('file439.txt', 3), ('file439.txt', 30), ('file597.txt', 27), ('file150.txt', 10), ('file422.txt', 8), ('file197.txt', 7), ('file197.txt', 41), ('file494.txt', 10), ('file907.txt', 1), ('file278.txt', 4), ('file737.txt', 9), ('file725.txt', 17)]\n",
      "22\n"
     ]
    }
   ],
   "source": []
  }
 ],
 "metadata": {
  "kernelspec": {
   "display_name": "IR_env",
   "language": "python",
   "name": "python3"
  },
  "language_info": {
   "codemirror_mode": {
    "name": "ipython",
    "version": 3
   },
   "file_extension": ".py",
   "mimetype": "text/x-python",
   "name": "python",
   "nbconvert_exporter": "python",
   "pygments_lexer": "ipython3",
   "version": "3.12.1"
  }
 },
 "nbformat": 4,
 "nbformat_minor": 2
}
