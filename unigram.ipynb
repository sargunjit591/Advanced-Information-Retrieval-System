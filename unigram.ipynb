{
 "cells": [
  {
   "cell_type": "code",
   "execution_count": 2,
   "metadata": {},
   "outputs": [
    {
     "name": "stdout",
     "output_type": "stream",
     "text": [
      "hi\n"
     ]
    }
   ],
   "source": [
    "import os\n",
    "import string\n",
    "import pickle\n",
    "\n",
    "print(\"hi\")"
   ]
  },
  {
   "cell_type": "code",
   "execution_count": 3,
   "metadata": {},
   "outputs": [],
   "source": [
    "inverted_index = {}\n",
    "inverted_index['I'] = []\n",
    "dataset_path = 'text_files'\n",
    "for filename in os.listdir(dataset_path):\n",
    "        if filename.endswith(\".txt\"):\n",
    "                with open(os.path.join(dataset_path, filename), 'r') as file:\n",
    "                        text = file.read()\n",
    "                        words=[word for word in text.split()]\n",
    "                        for word in words:\n",
    "                                if word not in inverted_index:\n",
    "                                        inverted_index[word] = []\n",
    "                                inverted_index[word].append(filename)\n",
    "                        inverted_index['I'].append(filename)\n",
    "\n",
    "with open('inverted_index.pkl', 'wb') as f:\n",
    "        pickle.dump(inverted_index, f)"
   ]
  }
 ],
 "metadata": {
  "kernelspec": {
   "display_name": "IR_env",
   "language": "python",
   "name": "python3"
  },
  "language_info": {
   "codemirror_mode": {
    "name": "ipython",
    "version": 3
   },
   "file_extension": ".py",
   "mimetype": "text/x-python",
   "name": "python",
   "nbconvert_exporter": "python",
   "pygments_lexer": "ipython3",
   "version": "3.12.1"
  }
 },
 "nbformat": 4,
 "nbformat_minor": 2
}
